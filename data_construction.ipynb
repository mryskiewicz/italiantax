{
 "cells": [
  {
   "cell_type": "code",
   "execution_count": 1,
   "metadata": {},
   "outputs": [],
   "source": [
    "import polars as pl\n",
    "import numpy as np\n",
    "import matplotlib.pyplot as plt\n",
    "import os\n",
    "import re"
   ]
  },
  {
   "cell_type": "code",
   "execution_count": 2,
   "metadata": {},
   "outputs": [],
   "source": [
    "INPUT_PATH = \"laws\"\n",
    "OUTPUT_PATH = \"laws_clean\"\n",
    "TAG_PATH = \"laws_tagged\""
   ]
  },
  {
   "cell_type": "code",
   "execution_count": 3,
   "metadata": {},
   "outputs": [],
   "source": [
    "data = pl.read_csv(\"laws_summary_pos.csv\")\n",
    "names = pl.read_csv(\"file_names.csv\")"
   ]
  },
  {
   "cell_type": "code",
   "execution_count": 4,
   "metadata": {},
   "outputs": [],
   "source": [
    "data = data.with_columns(\n",
    "    nominality = (pl.col(\"NOUN\") / pl.col(\"VERB\")).round(2),\n",
    "    nominality_wider = ((pl.col(\"NOUN\") + pl.col(\"PROPN\") + pl.col(\"PRON\") + pl.col(\"ADJ\") + pl.col(\"NUM\")) / (pl.col(\"VERB\") + pl.col(\"AUX\"))).round(2)\n",
    ")"
   ]
  },
  {
   "cell_type": "code",
   "execution_count": 5,
   "metadata": {},
   "outputs": [],
   "source": [
    "data_analysed = []\n",
    "\n",
    "for filename in os.listdir(OUTPUT_PATH):\n",
    "    file_path = os.path.join(OUTPUT_PATH, filename)\n",
    "    with open(file_path, \"r\", encoding=\"utf-8\") as f:\n",
    "        text = f.read()\n",
    "\n",
    "    # średnia długość artykułu\n",
    "    articles = re.split(r\"\\bArt\\.\\s\", text)[1:]\n",
    "    article_lengths = [len(article.split()) for article in articles]\n",
    "    avg_article_length = round(sum(article_lengths) / len(article_lengths), 2)\n",
    "\n",
    "    # średnia długość paragrafu\n",
    "    lengths = []\n",
    "    for article in articles:\n",
    "        sections = re.split(r\"\\n\\s*\\d+\\.\\s\", article)\n",
    "        if len(sections) == 1:\n",
    "            lengths.append(len(article.split()))\n",
    "        else:\n",
    "            for section in sections:\n",
    "                section_length = len(section.split())\n",
    "                if section_length > 0:\n",
    "                    lengths.append(section_length)\n",
    "\n",
    "    avg_section_length = round(sum(lengths) / len(lengths), 2)\n",
    "\n",
    "    # liczenie słów\n",
    "    words = text.split()\n",
    "    len_in_words = len(words)\n",
    "\n",
    "    data_analysed.append(\n",
    "        {\"file_name\": filename,\n",
    "         \"avg_article_length\": avg_article_length,\n",
    "         \"avg_section_length\": avg_section_length,\n",
    "         \"len_in_words\": len_in_words}\n",
    "        )\n",
    "\n",
    "df_lengths = pl.DataFrame(data_analysed)\n",
    "df_lengths.write_csv(\"laws_lengths.csv\")"
   ]
  },
  {
   "cell_type": "code",
   "execution_count": 6,
   "metadata": {},
   "outputs": [],
   "source": [
    "data_names = pl.read_csv(\"file_names.csv\")"
   ]
  },
  {
   "cell_type": "code",
   "execution_count": 7,
   "metadata": {},
   "outputs": [],
   "source": [
    "data = (\n",
    "    data\n",
    "    .join(df_lengths, on=\"file_name\", how=\"left\")\n",
    "    .join(data_names, on=\"file_name\", how=\"left\")\n",
    "    .with_columns(\n",
    "        pl.col(\"file_name\").str.split(\"_\").list.get(0).cast(pl.Int32).alias(\"year\"),\n",
    "    )\n",
    ")"
   ]
  },
  {
   "cell_type": "code",
   "execution_count": 8,
   "metadata": {},
   "outputs": [],
   "source": [
    "data.write_csv(\"data.csv\")"
   ]
  },
  {
   "cell_type": "code",
   "execution_count": 9,
   "metadata": {},
   "outputs": [
    {
     "data": {
      "text/html": [
       "<div><style>\n",
       ".dataframe > thead > tr,\n",
       ".dataframe > tbody > tr {\n",
       "  text-align: right;\n",
       "  white-space: pre-wrap;\n",
       "}\n",
       "</style>\n",
       "<small>shape: (5, 26)</small><table border=\"1\" class=\"dataframe\"><thead><tr><th>NOUN</th><th>ADP</th><th>PUNCT</th><th>DET</th><th>VERB</th><th>ADJ</th><th>AUX</th><th>CCONJ</th><th>NUM</th><th>PRON</th><th>ADV</th><th>PROPN</th><th>SCONJ</th><th>X</th><th>file_name</th><th>SYM</th><th>SPACE</th><th>INTJ</th><th>nominality</th><th>nominality_wider</th><th>avg_article_length</th><th>avg_section_length</th><th>len_in_words</th><th>name</th><th>type</th><th>year</th></tr><tr><td>i64</td><td>i64</td><td>i64</td><td>i64</td><td>i64</td><td>i64</td><td>i64</td><td>i64</td><td>i64</td><td>i64</td><td>i64</td><td>i64</td><td>i64</td><td>i64</td><td>str</td><td>f64</td><td>f64</td><td>f64</td><td>f64</td><td>f64</td><td>f64</td><td>f64</td><td>i64</td><td>str</td><td>str</td><td>i32</td></tr></thead><tbody><tr><td>1433</td><td>979</td><td>619</td><td>511</td><td>422</td><td>398</td><td>200</td><td>155</td><td>144</td><td>109</td><td>100</td><td>47</td><td>44</td><td>17</td><td>&quot;1927_1443.txt&quot;</td><td>0.0</td><td>0.0</td><td>0.0</td><td>3.4</td><td>3.43</td><td>68.23</td><td>67.17</td><td>4431</td><td>&quot;geologic and mining law&quot;</td><td>&quot;administrative&quot;</td><td>1927</td></tr><tr><td>19159</td><td>14138</td><td>12082</td><td>6564</td><td>6046</td><td>5924</td><td>2413</td><td>3697</td><td>3504</td><td>2566</td><td>2007</td><td>938</td><td>1057</td><td>8</td><td>&quot;1930_1398.txt&quot;</td><td>1.0</td><td>0.0</td><td>0.0</td><td>3.17</td><td>3.79</td><td>94.28</td><td>94.01</td><td>66694</td><td>&quot;penal code&quot;</td><td>&quot;penal&quot;</td><td>1930</td></tr><tr><td>13563</td><td>9178</td><td>8935</td><td>4848</td><td>4155</td><td>3426</td><td>1902</td><td>1732</td><td>2135</td><td>1729</td><td>1474</td><td>571</td><td>834</td><td>5</td><td>&quot;1940_1443.txt&quot;</td><td>1.0</td><td>0.0</td><td>0.0</td><td>3.26</td><td>3.54</td><td>89.18</td><td>88.82</td><td>44189</td><td>&quot;civil procedure&quot;</td><td>&quot;civil&quot;</td><td>1940</td></tr><tr><td>13485</td><td>10116</td><td>5918</td><td>4330</td><td>3467</td><td>3982</td><td>1244</td><td>2294</td><td>1787</td><td>1296</td><td>1065</td><td>463</td><td>411</td><td>120</td><td>&quot;1941_633.txt&quot;</td><td>3.0</td><td>0.0</td><td>0.0</td><td>3.89</td><td>4.46</td><td>139.54</td><td>60.38</td><td>42723</td><td>&quot;author and ip&quot;</td><td>&quot;civil&quot;</td><td>1941</td></tr><tr><td>23239</td><td>15881</td><td>13418</td><td>8634</td><td>7668</td><td>5675</td><td>3896</td><td>3264</td><td>2357</td><td>3502</td><td>2489</td><td>780</td><td>1380</td><td>20</td><td>&quot;1942_262.txt&quot;</td><td>1.0</td><td>1.0</td><td>0.0</td><td>3.03</td><td>3.07</td><td>61.07</td><td>60.81</td><td>75968</td><td>&quot;civil code&quot;</td><td>&quot;civil&quot;</td><td>1942</td></tr></tbody></table></div>"
      ],
      "text/plain": [
       "shape: (5, 26)\n",
       "┌───────┬───────┬───────┬──────┬───┬──────────────┬─────────────────────┬────────────────┬──────┐\n",
       "│ NOUN  ┆ ADP   ┆ PUNCT ┆ DET  ┆ … ┆ len_in_words ┆ name                ┆ type           ┆ year │\n",
       "│ ---   ┆ ---   ┆ ---   ┆ ---  ┆   ┆ ---          ┆ ---                 ┆ ---            ┆ ---  │\n",
       "│ i64   ┆ i64   ┆ i64   ┆ i64  ┆   ┆ i64          ┆ str                 ┆ str            ┆ i32  │\n",
       "╞═══════╪═══════╪═══════╪══════╪═══╪══════════════╪═════════════════════╪════════════════╪══════╡\n",
       "│ 1433  ┆ 979   ┆ 619   ┆ 511  ┆ … ┆ 4431         ┆ geologic and mining ┆ administrative ┆ 1927 │\n",
       "│       ┆       ┆       ┆      ┆   ┆              ┆ law                 ┆                ┆      │\n",
       "│ 19159 ┆ 14138 ┆ 12082 ┆ 6564 ┆ … ┆ 66694        ┆ penal code          ┆ penal          ┆ 1930 │\n",
       "│ 13563 ┆ 9178  ┆ 8935  ┆ 4848 ┆ … ┆ 44189        ┆ civil procedure     ┆ civil          ┆ 1940 │\n",
       "│ 13485 ┆ 10116 ┆ 5918  ┆ 4330 ┆ … ┆ 42723        ┆ author and ip       ┆ civil          ┆ 1941 │\n",
       "│ 23239 ┆ 15881 ┆ 13418 ┆ 8634 ┆ … ┆ 75968        ┆ civil code          ┆ civil          ┆ 1942 │\n",
       "└───────┴───────┴───────┴──────┴───┴──────────────┴─────────────────────┴────────────────┴──────┘"
      ]
     },
     "execution_count": 9,
     "metadata": {},
     "output_type": "execute_result"
    }
   ],
   "source": [
    "data.head()"
   ]
  },
  {
   "cell_type": "code",
   "execution_count": null,
   "metadata": {},
   "outputs": [],
   "source": []
  }
 ],
 "metadata": {
  "kernelspec": {
   "display_name": "Python 3",
   "language": "python",
   "name": "python3"
  },
  "language_info": {
   "codemirror_mode": {
    "name": "ipython",
    "version": 3
   },
   "file_extension": ".py",
   "mimetype": "text/x-python",
   "name": "python",
   "nbconvert_exporter": "python",
   "pygments_lexer": "ipython3",
   "version": "3.12.1"
  }
 },
 "nbformat": 4,
 "nbformat_minor": 2
}
